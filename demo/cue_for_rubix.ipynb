{
 "cells": [
  {
   "cell_type": "code",
   "execution_count": 1,
   "metadata": {},
   "outputs": [
    {
     "name": "stderr",
     "output_type": "stream",
     "text": [
      "2024-11-29 16:44:50.994804: I external/local_xla/xla/tsl/cuda/cudart_stub.cc:32] Could not find cuda drivers on your machine, GPU will not be used.\n",
      "2024-11-29 16:44:51.122114: I external/local_xla/xla/tsl/cuda/cudart_stub.cc:32] Could not find cuda drivers on your machine, GPU will not be used.\n",
      "2024-11-29 16:44:51.252354: E external/local_xla/xla/stream_executor/cuda/cuda_fft.cc:485] Unable to register cuFFT factory: Attempting to register factory for plugin cuFFT when one has already been registered\n",
      "2024-11-29 16:44:51.405948: E external/local_xla/xla/stream_executor/cuda/cuda_dnn.cc:8454] Unable to register cuDNN factory: Attempting to register factory for plugin cuDNN when one has already been registered\n",
      "2024-11-29 16:44:51.451466: E external/local_xla/xla/stream_executor/cuda/cuda_blas.cc:1452] Unable to register cuBLAS factory: Attempting to register factory for plugin cuBLAS when one has already been registered\n",
      "2024-11-29 16:44:51.713243: I tensorflow/core/platform/cpu_feature_guard.cc:210] This TensorFlow binary is optimized to use available CPU instructions in performance-critical operations.\n",
      "To enable the following instructions: AVX2 FMA, in other operations, rebuild TensorFlow with the appropriate compiler flags.\n",
      "2024-11-29 16:44:52.836862: W tensorflow/compiler/tf2tensorrt/utils/py_utils.cc:38] TF-TRT Warning: Could not find TensorRT\n",
      "/home/annalena/miniconda3/envs/cue/lib/python3.12/site-packages/sklearn/base.py:376: InconsistentVersionWarning: Trying to unpickle estimator IncrementalPCA from version 1.0.2 when using version 1.5.2. This might lead to breaking code or invalid results. Use at your own risk. For more info please refer to:\n",
      "https://scikit-learn.org/stable/model_persistence.html#security-maintainability-limitations\n",
      "  warnings.warn(\n",
      "/home/annalena/miniconda3/envs/cue/lib/python3.12/site-packages/sklearn/base.py:376: InconsistentVersionWarning: Trying to unpickle estimator IncrementalPCA from version 1.0.2 when using version 1.5.2. This might lead to breaking code or invalid results. Use at your own risk. For more info please refer to:\n",
      "https://scikit-learn.org/stable/model_persistence.html#security-maintainability-limitations\n",
      "  warnings.warn(\n"
     ]
    }
   ],
   "source": [
    "from cue.line_jaxcompatible import predict as line_predict\n",
    "from cue.continuum_jaxcompatible import predict as cont_predict"
   ]
  },
  {
   "cell_type": "code",
   "execution_count": 3,
   "metadata": {},
   "outputs": [
    {
     "name": "stderr",
     "output_type": "stream",
     "text": [
      "/home/annalena/cue/src/cue/line_jaxcompatible.py:227: RuntimeWarning: overflow encountered in power\n",
      "  return self.wavelength, 10**self.nn_spectra\n"
     ]
    }
   ],
   "source": [
    "import jax.numpy as jnp\n",
    "import numpy as np\n",
    "#theta = np.random.rand(1000, 12)\n",
    "#theta = jnp.array(theta)\n",
    "par = jnp.array([[21.5, 14.85, 6.45, 3.15, 4.55, 0.7, 0.85, 49.58, 10**2.5, -0.85, -0.134, -0.134]])\n",
    "lines = line_predict(1, theta=par).nn_predict()\n",
    "cont = cont_predict(1, theta=par).nn_predict()"
   ]
  },
  {
   "cell_type": "code",
   "execution_count": null,
   "metadata": {},
   "outputs": [
    {
     "data": {
      "image/png": "[encoded data removed]",
      "text/plain": [
       "<Figure size 640x480 with 1 Axes>"
      ]
     },
     "metadata": {},
     "output_type": "display_data"
    }
   ],
   "source": [
    "import matplotlib.pyplot as plt\n",
    "plt.plot(cont[0], cont[1])\n",
    "plt.show()"
   ]
  },
  {
   "cell_type": "code",
   "execution_count": null,
   "metadata": {},
   "outputs": [
    {
     "name": "stdout",
     "output_type": "stream",
     "text": [
      "(1, 12)\n",
      "[9.150e+02 9.250e+02 9.350e+02 ... 9.817e+07 9.908e+07 1.000e+08]\n",
      "[ 0.  0.  0. ... inf inf inf]\n"
     ]
    }
   ],
   "source": [
    "from jax.experimental import jax2tf\n",
    "import jax.numpy as jnp\n",
    "import tensorflow as tf\n",
    "import jax\n",
    "\n",
    "par = jnp.array([[21.5, 14.85, 6.45, 3.15, 4.55, 0.7, 0.85, 49.58, 10**2.5, -0.85, -0.134, -0.134]])\n",
    "\n",
    "#par = tf.convert_to_tensor(par)\n",
    "print(par.shape)\n",
    "\n",
    "#@tf.function\n",
    "def continuum_tf(particlenumber, theta):\n",
    "    return cont_predict(particlenumber, theta=theta).nn_predict()\n",
    "\n",
    "#def test_array(x):\n",
    "#    return x\n",
    "\n",
    "#x_tf = jax2tf.call_tf(test_array)(par)\n",
    "#print(x_tf)\n",
    "#print(x_tf.shape)\n",
    "#print(x_tf[0,0])\n",
    "\n",
    "#contclass = cont_predict(1, theta=np.array(par))\n",
    "#print(contclass.nn_predict())\n",
    "#continuum_tf_jit = jax.jit(continuum_tf, static_argnums=(0,))\n",
    "config = {\"particlenumber\": 1}\n",
    "wavelength_cont, continuum = jax2tf.call_tf(continuum_tf)(config[\"particlenumber\"], par)\n",
    "\n",
    "print(wavelength_cont)\n",
    "print(continuum)"
   ]
  },
  {
   "cell_type": "code",
   "execution_count": null,
   "metadata": {},
   "outputs": [
    {
     "data": {
      "image/png": "[encoded data removed]",
      "text/plain": [
       "<Figure size 640x480 with 1 Axes>"
      ]
     },
     "metadata": {},
     "output_type": "display_data"
    }
   ],
   "source": [
    "import matplotlib.pyplot as plt\n",
    "plt.plot(wavelength_cont, continuum)\n",
    "plt.show()"
   ]
  },
  {
   "cell_type": "code",
   "execution_count": null,
   "metadata": {},
   "outputs": [
    {
     "name": "stdout",
     "output_type": "stream",
     "text": [
      "(array([9.150e+02, 9.250e+02, 9.350e+02, ..., 9.817e+07, 9.908e+07,\n",
      "       1.000e+08]), Array([ 0.,  0.,  0., ..., inf, inf, inf], dtype=float32))\n"
     ]
    }
   ],
   "source": [
    "print(cont)"
   ]
  },
  {
   "cell_type": "code",
   "execution_count": null,
   "metadata": {},
   "outputs": [
    {
     "name": "stdout",
     "output_type": "stream",
     "text": [
      "(array([9.23150e+02, 9.26226e+02, 9.30748e+02, 9.37804e+02, 9.49743e+02,\n",
      "       9.72537e+02, 1.02572e+03, 1.21567e+03, 1.40602e+03, 1.54819e+03,\n",
      "       1.55077e+03, 1.64041e+03, 1.66081e+03, 1.66615e+03, 1.75000e+03,\n",
      "       1.81456e+03, 1.85472e+03, 1.86279e+03, 1.88271e+03, 1.89203e+03,\n",
      "       1.90668e+03, 1.90873e+03, 2.14277e+03, 2.32095e+03, 2.32350e+03,\n",
      "       2.32469e+03, 2.32540e+03, 2.32693e+03, 2.32812e+03, 2.42428e+03,\n",
      "       2.47100e+03, 2.66035e+03, 2.66915e+03, 2.79553e+03, 2.80271e+03,\n",
      "       3.10918e+03, 3.34218e+03, 3.72163e+03, 3.72603e+03, 3.72881e+03,\n",
      "       3.79790e+03, 3.83538e+03, 3.86876e+03, 3.88864e+03, 3.88905e+03,\n",
      "       3.96747e+03, 3.97007e+03, 4.06860e+03, 4.07635e+03, 4.10173e+03,\n",
      "       4.34046e+03, 4.36321e+03, 4.47150e+03, 4.62157e+03, 4.68568e+03,\n",
      "       4.71126e+03, 4.72000e+03, 4.74012e+03, 4.86132e+03, 4.95891e+03,\n",
      "       5.00684e+03, 5.19182e+03, 5.20026e+03, 5.51771e+03, 5.53787e+03,\n",
      "       5.57734e+03, 5.75461e+03, 5.87566e+03, 6.30030e+03, 6.31206e+03,\n",
      "       6.36378e+03, 6.54805e+03, 6.56280e+03, 6.58345e+03, 6.67815e+03,\n",
      "       6.71644e+03, 6.73082e+03, 7.06525e+03, 7.13579e+03, 7.32300e+03,\n",
      "       7.33200e+03, 7.33215e+03, 7.75111e+03, 8.57870e+03, 8.72713e+03,\n",
      "       9.01491e+03, 9.06862e+03, 9.12360e+03, 9.22902e+03, 9.53062e+03,\n",
      "       9.54597e+03, 9.85000e+03, 1.00494e+04, 1.03364e+04, 1.08291e+04,\n",
      "       1.08303e+04, 1.09381e+04, 1.25668e+04, 1.28181e+04, 1.73621e+04,\n",
      "       1.81741e+04, 1.87510e+04, 1.94456e+04, 2.16553e+04, 2.62515e+04,\n",
      "       3.03837e+04, 3.29609e+04, 3.73954e+04, 4.05113e+04, 4.65251e+04,\n",
      "       5.12726e+04, 5.90660e+04, 6.98337e+04, 7.45782e+04, 7.50045e+04,\n",
      "       8.98898e+04, 1.05076e+05, 1.23685e+05, 1.28101e+05, 1.43639e+05,\n",
      "       1.55509e+05, 1.87078e+05, 2.18253e+05, 3.28629e+05, 3.34704e+05,\n",
      "       3.48046e+05, 3.60036e+05, 5.18004e+05, 5.73238e+05, 6.06263e+05,\n",
      "       6.31679e+05, 8.83323e+05, 1.21769e+06, 1.45495e+06, 1.57636e+06,\n",
      "       2.05283e+06, 3.70269e+06, 6.09590e+06]), array([inf, inf, inf, inf,  0.,  0., inf, inf, inf, inf, inf, inf, inf,\n",
      "        0., inf,  0.,  0.,  0.,  0., inf,  0., inf, inf, inf, inf, inf,\n",
      "        0.,  0., inf,  0.,  0.,  0., inf, inf, inf, inf, inf, inf,  0.,\n",
      "       inf,  0.,  0., inf,  0.,  0.,  0.,  0.,  0.,  0.,  0.,  0., inf,\n",
      "       inf,  0., inf, inf, inf, inf,  0.,  0.,  0.,  0., inf,  0., inf,\n",
      "        0.,  0., inf,  0., inf, inf, inf,  0.,  0., inf,  0., inf,  0.,\n",
      "        0., inf,  0.,  0., inf,  0.,  0., inf, inf, inf, inf,  0.,  0.,\n",
      "       inf,  0., inf, inf,  0.,  0.,  0., inf, inf,  0.,  0., inf, inf,\n",
      "        0., inf, inf,  0.,  0.,  0., inf,  0., inf,  0., inf, inf,  0.,\n",
      "        0.,  0., inf, inf, inf, inf,  0., inf,  0.,  0., inf],\n",
      "      dtype=float32))\n"
     ]
    }
   ],
   "source": [
    "print(lines)"
   ]
  },
  {
   "cell_type": "code",
   "execution_count": null,
   "metadata": {},
   "outputs": [
    {
     "data": {
      "image/png": "[encoded data removed]",
      "text/plain": [
       "<Figure size 640x480 with 1 Axes>"
      ]
     },
     "metadata": {},
     "output_type": "display_data"
    }
   ],
   "source": [
    "import matplotlib.pyplot as plt\n",
    "\n",
    "plt.figure()\n",
    "plt.plot(cont[0], cont[1], label='Continuum')\n",
    "plt.show()"
   ]
  }
 ],
 "metadata": {
  "kernelspec": {
   "display_name": "cue",
   "language": "python",
   "name": "python3"
  },
  "language_info": {
   "codemirror_mode": {
    "name": "ipython",
    "version": 3
   },
   "file_extension": ".py",
   "mimetype": "text/x-python",
   "name": "python",
   "nbconvert_exporter": "python",
   "pygments_lexer": "ipython3",
   "version": "3.12.5"
  }
 },
 "nbformat": 4,
 "nbformat_minor": 2
}
